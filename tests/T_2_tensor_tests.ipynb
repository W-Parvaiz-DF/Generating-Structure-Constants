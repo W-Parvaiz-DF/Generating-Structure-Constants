{
 "cells": [
  {
   "cell_type": "code",
   "execution_count": 50,
   "metadata": {},
   "outputs": [],
   "source": [
    "import unittest\n",
    "import numpy as np \n",
    "import importlib\n",
    "import sys\n",
    "sys.path.append('../')\n",
    "from src import T_2_tensor\n",
    "importlib.reload(T_2_tensor)\n",
    "from src.T_2_tensor import T_2_Tensor\n",
    "from scipy.sparse import lil_matrix"
   ]
  },
  {
   "cell_type": "code",
   "execution_count": 51,
   "metadata": {},
   "outputs": [],
   "source": [
    "class T_2_Tensor_tests(unittest.TestCase):\n",
    "\n",
    "    def test_size_will_be_square_of_d_tensor(self):\n",
    "        n = 15\n",
    "        D_tensor = [ \n",
    "            [lil_matrix((n,n), dtype=complex) for _ in range(n)]\n",
    "        for _ in range(n)\n",
    "        ]\n",
    "\n",
    "        my_t2_tensor = T_2_Tensor(D_tensor)\n",
    "        output = my_t2_tensor.size \n",
    "\n",
    "        expected = n**2\n",
    "        self.assertEqual(expected, output)\n",
    "    \n",
    "    def test_validation_d_tensor_should_be_list(self):\n",
    "\n",
    "        D_tensor = \"not the right format\"\n",
    "        with self.assertRaises(TypeError) as context:\n",
    "            T_2_Tensor(D_tensor)\n",
    "    \n",
    "        self.assertEqual(str(context.exception), \"dissipation_tensor should be a list\")\n",
    "    \n",
    "    def test_validation_d_tensor_should_not_be_empty(self):\n",
    "        D_tensor = []\n",
    "        with self.assertRaises(ValueError) as context:\n",
    "            T_2_Tensor(D_tensor)\n",
    "    \n",
    "        self.assertEqual(str(context.exception), \"dissipation_tensor cannot be empty\")\n",
    "\n",
    "    def test_validation_d_tensor_elements_should_be_list(self):\n",
    "        D_tensor = [\"not a list\", \"not a list again\"]\n",
    "        with self.assertRaises(TypeError) as context:\n",
    "            T_2_Tensor(D_tensor)\n",
    "    \n",
    "        self.assertEqual(str(context.exception), f\"dissipation_tensor[{0}] should be a list\")\n",
    "\n",
    "    def test_validation_d_tensor_inner_list_elements_should_have_same_size_as_outer_list(self):\n",
    "        \n",
    "        D_tensor = [[1, 2, 3], [1]]\n",
    "        with self.assertRaises(ValueError) as context:\n",
    "            T_2_Tensor(D_tensor)\n",
    "    \n",
    "        self.assertEqual(str(context.exception), f\"dissipation_tensor[{0}] should have size {len(D_tensor)} not {len(D_tensor[0])}\")\n",
    "    \n",
    "    def test_validation_d_tensor_inner_list_elements_should_have_same_size_as_outer_list(self):\n",
    "        \n",
    "        D_tensor = [[np.zeros((2,2)), \"still not a matrix\"], [\"not a matrix\", \"Is this a matrix? No, it is a string\"]]\n",
    "        with self.assertRaises(TypeError) as context:\n",
    "            T_2_Tensor(D_tensor)\n",
    "    \n",
    "        self.assertEqual(str(context.exception), f\"dissipation_tensor[{0}][{1}] should have be a matrix\")\n",
    "    \n",
    "    def test_validation_d_tensor_inner_list_matrix_should_have_correct_shape(self):\n",
    "        D_tensor = [[np.zeros((2,2)), np.zeros((2,2))], [np.zeros((5,3)), np.zeros((2,2))]]\n",
    "        with self.assertRaises(ValueError) as context:\n",
    "            T_2_Tensor(D_tensor)\n",
    "    \n",
    "        self.assertEqual(str(context.exception), f\"dissipation_tensor[{1}][{0}] should have shape {(2, 2)} not {(5,3)}\")\n",
    "\n",
    "\n",
    "    \n",
    "        \n",
    "\n",
    "\n",
    "        \n"
   ]
  },
  {
   "cell_type": "code",
   "execution_count": 52,
   "metadata": {},
   "outputs": [
    {
     "name": "stderr",
     "output_type": "stream",
     "text": [
      "......\n",
      "----------------------------------------------------------------------\n",
      "Ran 6 tests in 0.011s\n",
      "\n",
      "OK\n"
     ]
    },
    {
     "data": {
      "text/plain": [
       "<unittest.main.TestProgram at 0x1fa8d959ca0>"
      ]
     },
     "execution_count": 52,
     "metadata": {},
     "output_type": "execute_result"
    }
   ],
   "source": [
    "unittest.main(argv=[''], exit = False)"
   ]
  }
 ],
 "metadata": {
  "kernelspec": {
   "display_name": "Python 3",
   "language": "python",
   "name": "python3"
  },
  "language_info": {
   "codemirror_mode": {
    "name": "ipython",
    "version": 3
   },
   "file_extension": ".py",
   "mimetype": "text/x-python",
   "name": "python",
   "nbconvert_exporter": "python",
   "pygments_lexer": "ipython3",
   "version": "3.12.8"
  }
 },
 "nbformat": 4,
 "nbformat_minor": 2
}
