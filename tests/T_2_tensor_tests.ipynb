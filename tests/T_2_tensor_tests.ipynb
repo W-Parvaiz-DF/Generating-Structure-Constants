{
 "cells": [
  {
   "cell_type": "code",
   "execution_count": 100,
   "metadata": {},
   "outputs": [],
   "source": [
    "import unittest\n",
    "from unittest.mock import MagicMock\n",
    "import numpy as np \n",
    "import importlib\n",
    "import sys\n",
    "sys.path.append('../')\n",
    "from src import T_2_matrix, dissipation_tensor, pauli_basis_class\n",
    "importlib.reload(T_2_matrix)\n",
    "importlib.reload(dissipation_tensor)\n",
    "importlib.reload(pauli_basis_class)\n",
    "from src.T_2_matrix import T_2_Matrix\n",
    "from src.dissipation_tensor import Dissipation_Tensor\n",
    "from src.pauli_basis_class import Pauli_Basis\n",
    "from scipy.sparse import lil_matrix"
   ]
  },
  {
   "cell_type": "code",
   "execution_count": 114,
   "metadata": {},
   "outputs": [],
   "source": [
    "class T_2_Tensor_tests(unittest.TestCase):\n",
    "\n",
    "\n",
    "    def test_constructor_argument_must_be_instance_of_dissipation_tensor(self):\n",
    "        \n",
    "        not_d_tensor = \"This is not a dissipation tensor\"\n",
    "        \n",
    "        with self.assertRaises(TypeError) as context:\n",
    "            T_2_Matrix(not_d_tensor)\n",
    "        \n",
    "        self.assertEqual(str(context.exception), \"d_tensor must be an instance of Dissipation_Tensor\")\n",
    "\n",
    "\n",
    "\n",
    "    def test_has_same_type_as_D_tensor_kossakowski(self):\n",
    "        n = 15\n",
    "        mock_structure_constants =  [lil_matrix((n,n), dtype=complex) for _ in range(n)]\n",
    "\n",
    "        d_tensor_general = Dissipation_Tensor(\"general\", mock_structure_constants, mock_structure_constants)\n",
    "        d_tensor_symm = Dissipation_Tensor(\"symmetric\", mock_structure_constants, mock_structure_constants)\n",
    "\n",
    "        T_2_general = T_2_Matrix(d_tensor_general)\n",
    "        T_2_symm = T_2_Matrix(d_tensor_symm)\n",
    "\n",
    "        self.assertEqual(T_2_general.type, \"general\")\n",
    "        self.assertEqual(T_2_symm.type, \"symmetric\")\n",
    "\n",
    "    def test_if_correct_shape_depending_on_type(self):\n",
    "        n = 15\n",
    "        dof_symm = n + (n**2 - n)/2\n",
    "        mock_structure_constants =  [lil_matrix((n,n), dtype=complex) for _ in range(n)]\n",
    "\n",
    "        d_tensor_general = Dissipation_Tensor(\"general\", mock_structure_constants, mock_structure_constants)\n",
    "        d_tensor_symm = Dissipation_Tensor(\"symmetric\", mock_structure_constants, mock_structure_constants)\n",
    "\n",
    "        T_2_general = T_2_Matrix(d_tensor_general)\n",
    "        T_2_symm = T_2_Matrix(d_tensor_symm)\n",
    "\n",
    "        T_2_general_shape = T_2_general.shape\n",
    "        T_2_symm_shape = T_2_symm.shape\n",
    "\n",
    "        self.assertEqual(T_2_general_shape, (n**2, n**2))\n",
    "        self.assertEqual(T_2_symm_shape, (n**2, dof_symm))\n",
    "\n",
    " \n",
    "\n",
    "    def test_correctly_builds_general_t_2_tensor_for_su_2(self):\n",
    "        \n",
    "        n = 2\n",
    "        my_pauli_basis = Pauli_Basis(n)\n",
    "        complex_structure_constants = my_pauli_basis.complex_structure_constants()\n",
    "        antisymmetric_structure_constants = my_pauli_basis.antisymmetric_structure_constants()\n",
    "\n",
    "        my_dissipation_tensor = Dissipation_Tensor(\"general\", complex_structure_constants, antisymmetric_structure_constants)\n",
    "\n",
    "        my_t_2_matrix = T_2_Matrix(my_dissipation_tensor)\n",
    "\n",
    "        output = my_t_2_matrix.matrix.toarray()\n",
    "        expected = np.array([[ \n",
    "                0. +0.j,  0. +0.j,  0. +0.j,  0. +0.j, -1. -0.j,  0. +0.j,\n",
    "                0. +0.j,  0. +0.j, -1. -0.j],\n",
    "            [ 0. +0.j,  0.5-0.j,  0. +0.j,  0.5-0.j,  0. +0.j,  0. +0.j,\n",
    "                0. +0.j,  0. +0.j,  0. +0.j],\n",
    "            [ 0. +0.j,  0. +0.j,  0.5-0.j,  0. +0.j,  0. +0.j,  0. +0.j,\n",
    "                0.5-0.j,  0. +0.j,  0. +0.j],\n",
    "            [ 0. +0.j,  0.5-0.j,  0. +0.j,  0.5-0.j,  0. +0.j,  0. +0.j,\n",
    "                0. +0.j,  0. +0.j,  0. +0.j],\n",
    "            [-1. -0.j,  0. +0.j,  0. +0.j,  0. +0.j,  0. +0.j,  0. +0.j,\n",
    "                0. +0.j,  0. +0.j, -1. -0.j],\n",
    "            [ 0. +0.j,  0. +0.j,  0. +0.j,  0. +0.j,  0. +0.j,  0.5-0.j,\n",
    "                0. +0.j,  0.5-0.j,  0. +0.j],\n",
    "            [ 0. +0.j,  0. +0.j,  0.5-0.j,  0. +0.j,  0. +0.j,  0. +0.j,\n",
    "                0.5-0.j,  0. +0.j,  0. +0.j],\n",
    "            [ 0. +0.j,  0. +0.j,  0. +0.j,  0. +0.j,  0. +0.j,  0.5-0.j,\n",
    "                0. +0.j,  0.5-0.j,  0. +0.j],\n",
    "            [-1. -0.j,  0. +0.j,  0. +0.j,  0. +0.j, -1. -0.j,  0. +0.j,\n",
    "                0. +0.j,  0. +0.j,  0. +0.j]])\n",
    "        \n",
    "        self.assertTrue(np.allclose(output, expected))\n"
   ]
  },
  {
   "cell_type": "code",
   "execution_count": 115,
   "metadata": {},
   "outputs": [
    {
     "name": "stderr",
     "output_type": "stream",
     "text": [
      ".C:\\Users\\waqas\\AppData\\Local\\Packages\\PythonSoftwareFoundation.Python.3.12_qbz5n2kfra8p0\\LocalCache\\local-packages\\Python312\\site-packages\\scipy\\sparse\\_lil.py:258: ComplexWarning: Casting complex values to real discards the imaginary part\n",
      "  x = self.dtype.type(x)\n",
      "...\n",
      "----------------------------------------------------------------------\n",
      "Ran 4 tests in 23.389s\n",
      "\n",
      "OK\n"
     ]
    },
    {
     "data": {
      "text/plain": [
       "<unittest.main.TestProgram at 0x218d83fd6a0>"
      ]
     },
     "execution_count": 115,
     "metadata": {},
     "output_type": "execute_result"
    }
   ],
   "source": [
    "unittest.main(argv=[''], exit = False)"
   ]
  },
  {
   "cell_type": "code",
   "execution_count": 104,
   "metadata": {},
   "outputs": [
    {
     "name": "stderr",
     "output_type": "stream",
     "text": [
      "C:\\Users\\waqas\\AppData\\Local\\Packages\\PythonSoftwareFoundation.Python.3.12_qbz5n2kfra8p0\\LocalCache\\local-packages\\Python312\\site-packages\\scipy\\sparse\\_lil.py:258: ComplexWarning: Casting complex values to real discards the imaginary part\n",
      "  x = self.dtype.type(x)\n"
     ]
    }
   ],
   "source": [
    "n = 2\n",
    "my_pauli_basis = Pauli_Basis(n)\n",
    "complex_structure_constants = my_pauli_basis.complex_structure_constants()\n",
    "antisymmetric_structure_constants = my_pauli_basis.antisymmetric_structure_constants()\n",
    "\n",
    "my_dissipation_tensor = Dissipation_Tensor(\"general\", complex_structure_constants, antisymmetric_structure_constants)\n",
    "my_t_2_matrix = T_2_Matrix(my_dissipation_tensor)"
   ]
  }
 ],
 "metadata": {
  "kernelspec": {
   "display_name": "Python 3",
   "language": "python",
   "name": "python3"
  },
  "language_info": {
   "codemirror_mode": {
    "name": "ipython",
    "version": 3
   },
   "file_extension": ".py",
   "mimetype": "text/x-python",
   "name": "python",
   "nbconvert_exporter": "python",
   "pygments_lexer": "ipython3",
   "version": "3.12.8"
  }
 },
 "nbformat": 4,
 "nbformat_minor": 2
}
