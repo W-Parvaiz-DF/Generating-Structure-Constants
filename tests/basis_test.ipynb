{
 "cells": [
  {
   "cell_type": "code",
   "execution_count": 22,
   "metadata": {},
   "outputs": [],
   "source": [
    "import unittest\n",
    "import numpy\n",
    "\n",
    "import sys\n",
    "sys.path.append('../')\n",
    "\n",
    "from src.basis_class import Basis\n"
   ]
  },
  {
   "cell_type": "code",
   "execution_count": 23,
   "metadata": {},
   "outputs": [
    {
     "ename": "RecursionError",
     "evalue": "maximum recursion depth exceeded",
     "output_type": "error",
     "traceback": [
      "\u001b[1;31m---------------------------------------------------------------------------\u001b[0m",
      "\u001b[1;31mRecursionError\u001b[0m                            Traceback (most recent call last)",
      "Cell \u001b[1;32mIn[23], line 1\u001b[0m\n\u001b[1;32m----> 1\u001b[0m x \u001b[38;5;241m=\u001b[39m \u001b[43mBasis\u001b[49m\u001b[43m(\u001b[49m\u001b[38;5;241;43m3\u001b[39;49m\u001b[43m)\u001b[49m\u001b[38;5;241;43m.\u001b[39;49m\u001b[43mdimension\u001b[49m()\n",
      "File \u001b[1;32mc:\\Users\\waqas\\OneDrive\\Documents\\CVUT\\Survey\\Code\\Lie Algebra\\Generating_Structure_Constants\\tests\\..\\src\\basis_class.py:10\u001b[0m, in \u001b[0;36mBasis.dimension\u001b[1;34m(self)\u001b[0m\n\u001b[0;32m      8\u001b[0m \u001b[38;5;129m@property\u001b[39m\n\u001b[0;32m      9\u001b[0m \u001b[38;5;28;01mdef\u001b[39;00m \u001b[38;5;21mdimension\u001b[39m(\u001b[38;5;28mself\u001b[39m):\n\u001b[1;32m---> 10\u001b[0m     \u001b[38;5;28;01mreturn\u001b[39;00m \u001b[38;5;28;43mself\u001b[39;49m\u001b[38;5;241;43m.\u001b[39;49m\u001b[43mdimension\u001b[49m\n",
      "File \u001b[1;32mc:\\Users\\waqas\\OneDrive\\Documents\\CVUT\\Survey\\Code\\Lie Algebra\\Generating_Structure_Constants\\tests\\..\\src\\basis_class.py:10\u001b[0m, in \u001b[0;36mBasis.dimension\u001b[1;34m(self)\u001b[0m\n\u001b[0;32m      8\u001b[0m \u001b[38;5;129m@property\u001b[39m\n\u001b[0;32m      9\u001b[0m \u001b[38;5;28;01mdef\u001b[39;00m \u001b[38;5;21mdimension\u001b[39m(\u001b[38;5;28mself\u001b[39m):\n\u001b[1;32m---> 10\u001b[0m     \u001b[38;5;28;01mreturn\u001b[39;00m \u001b[38;5;28;43mself\u001b[39;49m\u001b[38;5;241;43m.\u001b[39;49m\u001b[43mdimension\u001b[49m\n",
      "    \u001b[1;31m[... skipping similar frames: Basis.dimension at line 10 (2974 times)]\u001b[0m\n",
      "File \u001b[1;32mc:\\Users\\waqas\\OneDrive\\Documents\\CVUT\\Survey\\Code\\Lie Algebra\\Generating_Structure_Constants\\tests\\..\\src\\basis_class.py:10\u001b[0m, in \u001b[0;36mBasis.dimension\u001b[1;34m(self)\u001b[0m\n\u001b[0;32m      8\u001b[0m \u001b[38;5;129m@property\u001b[39m\n\u001b[0;32m      9\u001b[0m \u001b[38;5;28;01mdef\u001b[39;00m \u001b[38;5;21mdimension\u001b[39m(\u001b[38;5;28mself\u001b[39m):\n\u001b[1;32m---> 10\u001b[0m     \u001b[38;5;28;01mreturn\u001b[39;00m \u001b[38;5;28;43mself\u001b[39;49m\u001b[38;5;241;43m.\u001b[39;49m\u001b[43mdimension\u001b[49m\n",
      "\u001b[1;31mRecursionError\u001b[0m: maximum recursion depth exceeded"
     ]
    }
   ],
   "source": [
    "x = Basis(3).dimension()"
   ]
  },
  {
   "cell_type": "code",
   "execution_count": 12,
   "metadata": {},
   "outputs": [],
   "source": [
    "class BasisTestCase(unittest.TestCase):\n",
    "    \n",
    "    def test_get_correct_dimensions(self):\n",
    "        n = 2\n",
    "        basis_class = Basis(2)\n",
    "        result = basis_class.dimension\n",
    "        self.assertEquals(result, n)\n",
    "\n",
    "        "
   ]
  },
  {
   "cell_type": "code",
   "execution_count": 13,
   "metadata": {},
   "outputs": [
    {
     "name": "stderr",
     "output_type": "stream",
     "text": [
      "E\n",
      "======================================================================\n",
      "ERROR: test_get_correct_dimensions (__main__.BasisTestCase.test_get_correct_dimensions)\n",
      "----------------------------------------------------------------------\n",
      "Traceback (most recent call last):\n",
      "  File \"C:\\Users\\waqas\\AppData\\Local\\Temp\\ipykernel_11692\\4248421554.py\", line 5, in test_get_correct_dimensions\n",
      "    result = basis_class.dimension\n",
      "             ^^^^^^^^^^^^^^^^^^^^^\n",
      "  File \"c:\\Users\\waqas\\OneDrive\\Documents\\CVUT\\Survey\\Code\\Lie Algebra\\Generating_Structure_Constants\\tests\\..\\src\\basis_class.py\", line 10, in dimension\n",
      "    return self.dimension\n",
      "           ^^^^^^^^^^^^^^\n",
      "  File \"c:\\Users\\waqas\\OneDrive\\Documents\\CVUT\\Survey\\Code\\Lie Algebra\\Generating_Structure_Constants\\tests\\..\\src\\basis_class.py\", line 10, in dimension\n",
      "    return self.dimension\n",
      "           ^^^^^^^^^^^^^^\n",
      "  File \"c:\\Users\\waqas\\OneDrive\\Documents\\CVUT\\Survey\\Code\\Lie Algebra\\Generating_Structure_Constants\\tests\\..\\src\\basis_class.py\", line 10, in dimension\n",
      "    return self.dimension\n",
      "           ^^^^^^^^^^^^^^\n",
      "  [Previous line repeated 2963 more times]\n",
      "RecursionError: maximum recursion depth exceeded\n",
      "\n",
      "----------------------------------------------------------------------\n",
      "Ran 1 test in 0.050s\n",
      "\n",
      "FAILED (errors=1)\n"
     ]
    },
    {
     "data": {
      "text/plain": [
       "<unittest.main.TestProgram at 0x27b2a846210>"
      ]
     },
     "execution_count": 13,
     "metadata": {},
     "output_type": "execute_result"
    }
   ],
   "source": [
    "unittest.main(argv=[''], exit=False)"
   ]
  }
 ],
 "metadata": {
  "kernelspec": {
   "display_name": "Python 3",
   "language": "python",
   "name": "python3"
  },
  "language_info": {
   "codemirror_mode": {
    "name": "ipython",
    "version": 3
   },
   "file_extension": ".py",
   "mimetype": "text/x-python",
   "name": "python",
   "nbconvert_exporter": "python",
   "pygments_lexer": "ipython3",
   "version": "3.12.8"
  }
 },
 "nbformat": 4,
 "nbformat_minor": 2
}
