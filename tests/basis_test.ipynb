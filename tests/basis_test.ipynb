{
 "cells": [
  {
   "cell_type": "code",
   "execution_count": 141,
   "metadata": {},
   "outputs": [],
   "source": [
    "import unittest\n",
    "import numpy as np\n",
    "import importlib\n",
    "import sys\n",
    "sys.path.append('../')\n",
    "from src import basis_class\n",
    "\n",
    "# Reload the module to apply changes\n",
    "importlib.reload(basis_class)\n",
    "from src.basis_class import Basis"
   ]
  },
  {
   "cell_type": "code",
   "execution_count": 144,
   "metadata": {},
   "outputs": [],
   "source": [
    "class BasisTestCase(unittest.TestCase):\n",
    "    \n",
    "    def test_get_correct_dimensions(self):\n",
    "        n = 2\n",
    "        basis_class = Basis(2)\n",
    "        result = basis_class.dimension\n",
    "        self.assertEqual(result, n)\n",
    "    \n",
    "    def test_only_even_dimensions(self):\n",
    "        n = 3\n",
    "        with self.assertRaises(Exception) as context:\n",
    "            Basis(n)  # This should raise the exception\n",
    "\n",
    "        \n",
    "        self.assertEqual(str(context.exception), \"Only positive even integers allowed!\")\n",
    "\n",
    "    def test_only_positive_dimensions(self):\n",
    "        n = -4\n",
    "        with self.assertRaises(Exception) as context:\n",
    "            Basis(n)\n",
    "        \n",
    "        self.assertEqual(str(context.exception), \"Only positive even integers allowed!\")\n",
    "        \n",
    "    def test_only_integer_dimensions(self):\n",
    "        n=3.45\n",
    "        with self.assertRaises(Exception) as context:\n",
    "            Basis(n)\n",
    "        \n",
    "        self.assertEqual(str(context.exception), \"Only positive even integers allowed!\")\n",
    "        \n",
    "    def test_creating_vector_of_correct_size(self):\n",
    "        \n",
    "        n= 4\n",
    "        index = 1 \n",
    "        basis_class = Basis(n,index)\n",
    "\n",
    "        result = len(basis_class.create_basis_vectors(n))\n",
    "        self.assertEqual(result, n)        \n",
    "\n",
    "    def test_creates_unit_vector_correctly(self):\n",
    "\n",
    "        n = 4\n",
    "        basis_class = Basis(n)\n",
    "        index = 2\n",
    "        \n",
    "        vector = basis_class.create_basis_vectors(n, index)\n",
    "\n",
    "        self.assertEqual(index, np.nonzero(vector)[0])\n",
    "\n",
    "\n",
    "\n",
    "\n",
    "\n",
    "\n"
   ]
  },
  {
   "cell_type": "code",
   "execution_count": 145,
   "metadata": {},
   "outputs": [
    {
     "name": "stderr",
     "output_type": "stream",
     "text": [
      "E.....\n",
      "======================================================================\n",
      "ERROR: test_creates_unit_vector_correctly (__main__.BasisTestCase.test_creates_unit_vector_correctly)\n",
      "----------------------------------------------------------------------\n",
      "Traceback (most recent call last):\n",
      "  File \"C:\\Users\\waqas\\AppData\\Local\\Temp\\ipykernel_11692\\1898231970.py\", line 46, in test_creates_unit_vector_correctly\n",
      "    vector = basis_class.create_basis_vectors(n, index)\n",
      "             ^^^^^^^^^^^^^^^^^^^^^^^^^^^^^^^^^^^^^^^^^^\n",
      "TypeError: Basis.create_basis_vectors() takes 1 positional argument but 2 were given\n",
      "\n",
      "----------------------------------------------------------------------\n",
      "Ran 6 tests in 0.007s\n",
      "\n",
      "FAILED (errors=1)\n"
     ]
    },
    {
     "data": {
      "text/plain": [
       "<unittest.main.TestProgram at 0x27b2a5f8680>"
      ]
     },
     "execution_count": 145,
     "metadata": {},
     "output_type": "execute_result"
    }
   ],
   "source": [
    "unittest.main(argv=[''], exit=False)"
   ]
  },
  {
   "cell_type": "code",
   "execution_count": null,
   "metadata": {},
   "outputs": [
    {
     "data": {
      "text/plain": [
       "array([0., 0., 0.])"
      ]
     },
     "execution_count": 133,
     "metadata": {},
     "output_type": "execute_result"
    }
   ],
   "source": []
  },
  {
   "cell_type": "code",
   "execution_count": null,
   "metadata": {},
   "outputs": [],
   "source": []
  }
 ],
 "metadata": {
  "kernelspec": {
   "display_name": "Python 3",
   "language": "python",
   "name": "python3"
  },
  "language_info": {
   "codemirror_mode": {
    "name": "ipython",
    "version": 3
   },
   "file_extension": ".py",
   "mimetype": "text/x-python",
   "name": "python",
   "nbconvert_exporter": "python",
   "pygments_lexer": "ipython3",
   "version": "3.12.8"
  }
 },
 "nbformat": 4,
 "nbformat_minor": 2
}
