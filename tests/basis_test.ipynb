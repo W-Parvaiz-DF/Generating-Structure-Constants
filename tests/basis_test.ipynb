{
 "cells": [
  {
   "cell_type": "code",
   "execution_count": 117,
   "metadata": {},
   "outputs": [],
   "source": [
    "import unittest\n",
    "import numpy\n",
    "import importlib\n",
    "import sys\n",
    "sys.path.append('../')\n",
    "from src import basis_class\n",
    "\n",
    "# Reload the module to apply changes\n",
    "importlib.reload(basis_class)\n",
    "from src.basis_class import Basis"
   ]
  },
  {
   "cell_type": "code",
   "execution_count": 115,
   "metadata": {},
   "outputs": [],
   "source": [
    "class BasisTestCase(unittest.TestCase):\n",
    "    \n",
    "    def test_get_correct_dimensions(self):\n",
    "        n = 2\n",
    "        basis_class = Basis(2)\n",
    "        result = basis_class.dimension\n",
    "        self.assertEqual(result, n)\n",
    "    \n",
    "    def test_only_even_dimensions(self):\n",
    "        n = 3\n",
    "        with self.assertRaises(Exception) as context:\n",
    "            Basis(n)  # This should raise the exception\n",
    "\n",
    "        \n",
    "        self.assertEqual(str(context.exception), \"Only positive even integers allowed!\")\n",
    "\n",
    "    def test_only_positive_values(self):\n",
    "        n = -4\n",
    "        with self.assertRaises(Exception) as context:\n",
    "            Basis(n)\n",
    "        \n",
    "        self.assertEqual(str(context.exception), \"Only positive even integers allowed!\")\n",
    "        \n",
    "\n",
    "        "
   ]
  },
  {
   "cell_type": "code",
   "execution_count": 116,
   "metadata": {},
   "outputs": [
    {
     "name": "stderr",
     "output_type": "stream",
     "text": [
      ".FF\n",
      "======================================================================\n",
      "FAIL: test_only_even_dimensions (__main__.BasisTestCase.test_only_even_dimensions)\n",
      "----------------------------------------------------------------------\n",
      "Traceback (most recent call last):\n",
      "  File \"C:\\Users\\waqas\\AppData\\Local\\Temp\\ipykernel_11692\\1908930920.py\", line 11, in test_only_even_dimensions\n",
      "    with self.assertRaises(Exception) as context:\n",
      "         ^^^^^^^^^^^^^^^^^^^^^^^^^^^^\n",
      "AssertionError: Exception not raised\n",
      "\n",
      "======================================================================\n",
      "FAIL: test_only_positive_values (__main__.BasisTestCase.test_only_positive_values)\n",
      "----------------------------------------------------------------------\n",
      "Traceback (most recent call last):\n",
      "  File \"C:\\Users\\waqas\\AppData\\Local\\Temp\\ipykernel_11692\\1908930920.py\", line 19, in test_only_positive_values\n",
      "    with self.assertRaises(Exception) as context:\n",
      "         ^^^^^^^^^^^^^^^^^^^^^^^^^^^^\n",
      "AssertionError: Exception not raised\n",
      "\n",
      "----------------------------------------------------------------------\n",
      "Ran 3 tests in 0.011s\n",
      "\n",
      "FAILED (failures=2)\n"
     ]
    },
    {
     "data": {
      "text/plain": [
       "<unittest.main.TestProgram at 0x27b2a44d640>"
      ]
     },
     "execution_count": 116,
     "metadata": {},
     "output_type": "execute_result"
    }
   ],
   "source": [
    "unittest.main(argv=[''], exit=False)"
   ]
  },
  {
   "cell_type": "code",
   "execution_count": null,
   "metadata": {},
   "outputs": [],
   "source": []
  }
 ],
 "metadata": {
  "kernelspec": {
   "display_name": "Python 3",
   "language": "python",
   "name": "python3"
  },
  "language_info": {
   "codemirror_mode": {
    "name": "ipython",
    "version": 3
   },
   "file_extension": ".py",
   "mimetype": "text/x-python",
   "name": "python",
   "nbconvert_exporter": "python",
   "pygments_lexer": "ipython3",
   "version": "3.12.8"
  }
 },
 "nbformat": 4,
 "nbformat_minor": 2
}
