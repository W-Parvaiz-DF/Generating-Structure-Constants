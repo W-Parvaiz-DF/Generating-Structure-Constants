{
 "cells": [
  {
   "cell_type": "code",
   "execution_count": 39,
   "metadata": {},
   "outputs": [],
   "source": [
    "import unittest\n",
    "import numpy as np \n",
    "import importlib\n",
    "import sys\n",
    "sys.path.append('../')\n",
    "from src import dissipation_tensor\n",
    "importlib.reload(dissipation_tensor)\n",
    "from src.dissipation_tensor import Dissipation_Tensor"
   ]
  },
  {
   "cell_type": "code",
   "execution_count": 40,
   "metadata": {},
   "outputs": [],
   "source": [
    "class Dissipation_tests(unittest.TestCase):\n",
    "\n",
    "    def test_dissipation_tensor_constructed_with_correct_size_and_initially_zeros(self):\n",
    "\n",
    "        n = 9\n",
    "        my_dissipation_tensor = Dissipation_Tensor(n, \"general\")\n",
    "        d_tensor = my_dissipation_tensor.tensor\n",
    "        first_layer_size = len(d_tensor)\n",
    "        second_layer_size = len(d_tensor[0])\n",
    "        inner_matrix_shape = np.shape(d_tensor[0][0].toarray())\n",
    "        empty_array = np.zeros((n,n))\n",
    "        self.assertEqual(first_layer_size, n)\n",
    "        self.assertEqual(second_layer_size, n)\n",
    "        self.assertEqual(inner_matrix_shape, (n,n))\n",
    "        self.assertTrue(all(np.array_equal(d_tensor[i][j].toarray(), empty_array) for i in range(n) for j in range(n)))\n",
    "\n",
    "    def test_creates_correct_tensor_select_type_of_Kossakowski_matrix_with_getter(self):\n",
    "        \n",
    "        n = 2 \n",
    "        kossakowski_types = [\"General\", \"Symmetric\"] #can include diagonal but it's not a priority right now\n",
    "        my_dissipation_tensor_general = Dissipation_Tensor(n, kossakowski_types[0])\n",
    "        my_dissipation_tensor_symmetric = Dissipation_Tensor(n, kossakowski_types[1])\n",
    "\n",
    "        self.assertEqual(kossakowski_types[0].lower(), my_dissipation_tensor_general.kossakowski_type)\n",
    "        self.assertEqual(kossakowski_types[1].lower(), my_dissipation_tensor_symmetric.kossakowski_type)\n",
    "\n",
    "    def test_validation_of_kossakowski_types(self):\n",
    "\n",
    "        n = 2\n",
    "        \n",
    "        with self.assertRaises(Exception) as context:\n",
    "            Dissipation_Tensor(n,\"jhjhkjhkj\")\n",
    "        \n",
    "        self.assertEqual(str(context.exception), \"Kossakowski matrix type must be \\\"general\\\" or \\\"symmetric\\\"\")\n",
    "\n",
    "\n",
    "\n",
    "\n",
    "        \n"
   ]
  },
  {
   "cell_type": "code",
   "execution_count": 41,
   "metadata": {},
   "outputs": [
    {
     "name": "stderr",
     "output_type": "stream",
     "text": [
      "...\n",
      "----------------------------------------------------------------------\n",
      "Ran 3 tests in 0.003s\n",
      "\n",
      "OK\n"
     ]
    },
    {
     "data": {
      "text/plain": [
       "<unittest.main.TestProgram at 0x1b1aa6f3fb0>"
      ]
     },
     "execution_count": 41,
     "metadata": {},
     "output_type": "execute_result"
    }
   ],
   "source": [
    "unittest.main(argv=[''], exit = False)"
   ]
  }
 ],
 "metadata": {
  "kernelspec": {
   "display_name": "Python 3",
   "language": "python",
   "name": "python3"
  },
  "language_info": {
   "codemirror_mode": {
    "name": "ipython",
    "version": 3
   },
   "file_extension": ".py",
   "mimetype": "text/x-python",
   "name": "python",
   "nbconvert_exporter": "python",
   "pygments_lexer": "ipython3",
   "version": "3.12.8"
  }
 },
 "nbformat": 4,
 "nbformat_minor": 2
}
