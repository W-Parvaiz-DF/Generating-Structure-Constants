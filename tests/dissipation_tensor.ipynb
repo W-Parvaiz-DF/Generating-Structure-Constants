{
 "cells": [
  {
   "cell_type": "code",
   "execution_count": 5,
   "metadata": {},
   "outputs": [],
   "source": [
    "import unittest\n",
    "import numpy as np \n",
    "import importlib\n",
    "import sys\n",
    "sys.path.append('../')\n",
    "from src import dissipation_tensor\n",
    "importlib.reload(dissipation_tensor)\n",
    "from src.dissipation_tensor import Dissipation_Tensor"
   ]
  },
  {
   "cell_type": "code",
   "execution_count": 6,
   "metadata": {},
   "outputs": [],
   "source": [
    "class Dissipation_tests(unittest.TestCase):\n",
    "\n",
    "    def test_dissipation_tensor_constructed_with_correct_size(self):\n",
    "\n",
    "        n = 9\n",
    "        my_dissipation_tensor = Dissipation_Tensor(n)\n",
    "        d_tensor = my_dissipation_tensor.tensor\n",
    "        first_layer_size = len(d_tensor)\n",
    "        second_layer_size = len(d_tensor[0])\n",
    "        inner_matrix_shape = np.shape(d_tensor[0][0].toarray())\n",
    "\n",
    "        self.assertEqual(first_layer_size, n)\n",
    "        self.assertEqual(second_layer_size, n)\n",
    "        self.assertEqual(inner_matrix_shape, (n,n))\n",
    "        \n",
    "\n",
    "\n",
    "\n"
   ]
  },
  {
   "cell_type": "code",
   "execution_count": 7,
   "metadata": {},
   "outputs": [
    {
     "name": "stderr",
     "output_type": "stream",
     "text": [
      ".\n",
      "----------------------------------------------------------------------\n",
      "Ran 1 test in 0.001s\n",
      "\n",
      "OK\n"
     ]
    },
    {
     "data": {
      "text/plain": [
       "<unittest.main.TestProgram at 0x1b1e7b5f440>"
      ]
     },
     "execution_count": 7,
     "metadata": {},
     "output_type": "execute_result"
    }
   ],
   "source": [
    "unittest.main(argv=[''], exit = False)"
   ]
  },
  {
   "cell_type": "code",
   "execution_count": null,
   "metadata": {},
   "outputs": [],
   "source": []
  }
 ],
 "metadata": {
  "kernelspec": {
   "display_name": "Python 3",
   "language": "python",
   "name": "python3"
  },
  "language_info": {
   "codemirror_mode": {
    "name": "ipython",
    "version": 3
   },
   "file_extension": ".py",
   "mimetype": "text/x-python",
   "name": "python",
   "nbconvert_exporter": "python",
   "pygments_lexer": "ipython3",
   "version": "3.12.8"
  }
 },
 "nbformat": 4,
 "nbformat_minor": 2
}
