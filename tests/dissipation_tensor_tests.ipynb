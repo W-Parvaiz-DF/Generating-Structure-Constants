{
 "cells": [
  {
   "cell_type": "code",
   "execution_count": 1,
   "metadata": {},
   "outputs": [],
   "source": [
    "import unittest\n",
    "import numpy as np \n",
    "import importlib\n",
    "import sys\n",
    "sys.path.append('../')\n",
    "from src import dissipation_tensor, pauli_basis_class #should use a mock instead but since this class has been fully tested its ok\n",
    "importlib.reload(dissipation_tensor)\n",
    "importlib.reload(pauli_basis_class)\n",
    "from src.dissipation_tensor import Dissipation_Tensor\n",
    "from src.pauli_basis_class import Pauli_Basis\n",
    "from scipy.sparse import lil_matrix"
   ]
  },
  {
   "cell_type": "code",
   "execution_count": 2,
   "metadata": {},
   "outputs": [],
   "source": [
    "class Dissipation_tests(unittest.TestCase):\n",
    "\n",
    "    def test_dissipation_tensor_constructed_with_correct_size_and_initially_zeros(self):\n",
    "\n",
    "        n = 2\n",
    "        complex_sc =  [lil_matrix((n, n)) for _ in range(n)]\n",
    "        anti_sc = [lil_matrix((n, n)) for _ in range(n)]\n",
    "        my_dissipation_tensor = Dissipation_Tensor(\"general\", complex_sc, anti_sc)\n",
    "        d_tensor = my_dissipation_tensor.tensor\n",
    "        first_layer_size = len(d_tensor)\n",
    "        second_layer_size = len(d_tensor[0])\n",
    "        inner_matrix_shape = np.shape(d_tensor[0][0].toarray())\n",
    "        self.assertEqual(first_layer_size, n)\n",
    "        self.assertEqual(second_layer_size, n)\n",
    "        self.assertEqual(inner_matrix_shape, (n,n))\n",
    "\n",
    "    def test_creates_correct_tensor_select_type_of_Kossakowski_matrix_with_getter(self):\n",
    "        \n",
    "        n = 2 \n",
    "        complex_sc = [lil_matrix((n, n)) for _ in range(n)]\n",
    "        anti_sc = [lil_matrix((n, n)) for _ in range(n)]\n",
    "        kossakowski_types = [\"General\", \"Symmetric\"] #can include diagonal but it's not a priority right now\n",
    "        my_dissipation_tensor_general = Dissipation_Tensor(kossakowski_types[0], complex_sc, anti_sc)\n",
    "        my_dissipation_tensor_symmetric = Dissipation_Tensor(kossakowski_types[1], complex_sc, anti_sc)\n",
    "\n",
    "        self.assertEqual(kossakowski_types[0].lower(), my_dissipation_tensor_general.kossakowski_type)\n",
    "        self.assertEqual(kossakowski_types[1].lower(), my_dissipation_tensor_symmetric.kossakowski_type)\n",
    "\n",
    "    def test_validation_of_kossakowski_types(self):\n",
    "\n",
    "        n = 2\n",
    "        complex_sc = [lil_matrix((n, n)) for _ in range(n)]\n",
    "        anti_sc = [lil_matrix((n, n)) for _ in range(n)]\n",
    "        with self.assertRaises(Exception) as context:\n",
    "            Dissipation_Tensor(\"Not a kossakowski matrix, just a random string\", complex_sc, anti_sc)\n",
    "        \n",
    "        self.assertEqual(str(context.exception), \"Kossakowski matrix type must be \\\"general\\\" or \\\"symmetric\\\"\")\n",
    "\n",
    "    def test_complex_strucutre_constants_validation_must_be_list(self):\n",
    "        n=2\n",
    "        complex_sc = \"string\"\n",
    "        anti_sc = [lil_matrix((n, n)) for _ in range(n)]\n",
    "\n",
    "        with self.assertRaises(TypeError) as context:\n",
    "            Dissipation_Tensor(\"symmetric\", complex_sc, anti_sc)\n",
    "        \n",
    "        self.assertEqual(str(context.exception), \"complex_structure_constants should be a list of n matrices with dimension n x n\")\n",
    "\n",
    "    def test_complex_strucutre_constants_validation_no_empty_list(self):\n",
    "        n=2\n",
    "        complex_sc = []\n",
    "        anti_sc = [lil_matrix((n, n)) for _ in range(n)]\n",
    "        with self.assertRaises(ValueError) as context:\n",
    "            Dissipation_Tensor(\"symmetric\", complex_sc, anti_sc)\n",
    "        \n",
    "        self.assertEqual(str(context.exception), \"complex_structure_constants cannot be an empty list\")\n",
    "\n",
    "    \n",
    "    def test_complex_structure_constants_validation_should_be_list_of_matrices(self):\n",
    "        n=2\n",
    "        complex_sc = [\"beep\", \"boop\"]\n",
    "        anti_sc = [lil_matrix((n, n)) for _ in range(n)]\n",
    "        with self.assertRaises(TypeError) as context:\n",
    "            Dissipation_Tensor(\"symmetric\", complex_sc, anti_sc)\n",
    "        \n",
    "        self.assertEqual(str(context.exception), \"complex_structure_constants must be a list of matrices\")\n",
    "\n",
    "    def test_complex_structure_constants_validation_should_be_list_of_matrices_of_same_dimension_as_list(self):\n",
    "        n=2\n",
    "        complex_sc = [np.zeros((2,2)), np.zeros((2,2)), np.zeros((2,2))]\n",
    "        anti_sc = [lil_matrix((n, n)) for _ in range(n)]\n",
    "        with self.assertRaises(ValueError) as context:\n",
    "            Dissipation_Tensor(\"symmetric\", complex_sc, anti_sc)\n",
    "        \n",
    "        self.assertEqual(str(context.exception), f\"All matrices in complex_structure_constants must have dimensions ({len(complex_sc)}, {len(complex_sc)}). \"\n",
    "                                 f\"Found a matrix with dimensions {complex_sc[0].shape}.\")\n",
    "\n",
    "    def test_build_general_d_tensor_for_su_4(self):\n",
    "        n = 4\n",
    "        my_pauli_basis = Pauli_Basis(4)\n",
    "        \n",
    "        complex_structure_constants  = my_pauli_basis.complex_structure_constants()\n",
    "        antisymmetric_structure_constants = my_pauli_basis.antisymmetric_structure_constants()  \n",
    "    \n",
    "        my_dissipation_tensor = Dissipation_Tensor(\"general\", complex_structure_constants, antisymmetric_structure_constants)\n",
    "\n",
    "        output = my_dissipation_tensor.tensor\n",
    "        expected = np.array([[0. +0.j, 0. +0.j, 0. +0.j, 0. +0.j, 0. +0.j, 0. +0.j, 0. +0.j,\n",
    "        0. +0.j, 0. +0.j, 0. +0.j, 0. +0.j, 0. +0.j, 0. +0.j, 0. +0.j,\n",
    "        0. +0.j],[0. +0.j, 0.5+0.j, 0. +0.j, 0. +0.j, 0. +0.j, 0. +0.j, 0. +0.j,\n",
    "        0. +0.j, 0. +0.j, 0. +0.j, 0. +0.j, 0. +0.j, 0. +0.j, 0. +0.j,\n",
    "        0. +0.j],[0. +0.j, 0. +0.j, 0.5+0.j, 0. +0.j, 0. +0.j, 0. +0.j, 0. +0.j,\n",
    "        0. +0.j, 0. +0.j, 0. +0.j, 0. +0.j, 0. +0.j, 0. +0.j, 0. +0.j,\n",
    "        0. +0.j],[0. +0.j, 0. +0.j, 0. +0.j, 0. +0.j, 0. +0.j, 0. +0.j, 0. +0.j,\n",
    "        0. +0.j, 0. +0.j, 0. +0.j, 0. +0.j, 0. +0.j, 0. +0.j, 0. +0.j,\n",
    "        0. +0.j],[0. +0.j, 0. +0.j, 0. +0.j, 0. +0.j, 0. +0.j, 0. +0.j, 0. +0.j,\n",
    "        0. +0.j, 0. +0.j, 0. +0.j, 0. +0.j, 0. +0.j, 0. +0.j, 0. +0.j,\n",
    "        0. +0.j],[0. +0.j, 0. +0.j, 0. +0.j, 0. +0.j, 0. +0.j, 0.5+0.j, 0. +0.j,\n",
    "        0. +0.j, 0. +0.j, 0. +0.j, 0. +0.j, 0. +0.j, 0. +0.j, 0. +0.j,\n",
    "        0. +0.j],[0. +0.j, 0. +0.j, 0. +0.j, 0. +0.j, 0. +0.j, 0. +0.j, 0.5+0.j,\n",
    "        0. +0.j, 0. +0.j, 0. +0.j, 0. +0.j, 0. +0.j, 0. +0.j, 0. +0.j,\n",
    "        0. +0.j],[0. +0.j, 0. +0.j, 0. +0.j, 0. +0.j, 0. +0.j, 0. +0.j, 0. +0.j,\n",
    "        0. +0.j, 0. +0.j, 0. +0.j, 0. +0.j, 0. +0.j, 0. +0.j, 0. +0.j,\n",
    "        0. +0.j],[0. +0.j, 0. +0.j, 0. +0.j, 0. +0.j, 0. +0.j, 0. +0.j, 0. +0.j,\n",
    "        0. +0.j, 0. +0.j, 0. +0.j, 0. +0.j, 0. +0.j, 0. +0.j, 0. +0.j,\n",
    "        0. +0.j],[0. +0.j, 0. +0.j, 0. +0.j, 0. +0.j, 0. +0.j, 0. +0.j, 0. +0.j,\n",
    "        0. +0.j, 0. +0.j, 0.5+0.j, 0. +0.j, 0. +0.j, 0. +0.j, 0. +0.j,\n",
    "        0. +0.j],[0. +0.j, 0. +0.j, 0. +0.j, 0. +0.j, 0. +0.j, 0. +0.j, 0. +0.j,\n",
    "        0. +0.j, 0. +0.j, 0. +0.j, 0.5+0.j, 0. +0.j, 0. +0.j, 0. +0.j,\n",
    "        0. +0.j],[0. +0.j, 0. +0.j, 0. +0.j, 0. +0.j, 0. +0.j, 0. +0.j, 0. +0.j,\n",
    "        0. +0.j, 0. +0.j, 0. +0.j, 0. +0.j, 0. +0.j, 0. +0.j, 0. +0.j,\n",
    "        0. +0.j],[0. +0.j, 0. +0.j, 0. +0.j, 0. +0.j, 0. +0.j, 0. +0.j, 0. +0.j,\n",
    "        0. +0.j, 0. +0.j, 0. +0.j, 0. +0.j, 0. +0.j, 0. +0.j, 0. +0.j,\n",
    "        0. +0.j],[0. +0.j, 0. +0.j, 0. +0.j, 0. +0.j, 0. +0.j, 0. +0.j, 0. +0.j,\n",
    "        0. +0.j, 0. +0.j, 0. +0.j, 0. +0.j, 0. +0.j, 0. +0.j, 0.5+0.j,\n",
    "        0. +0.j],[0. +0.j, 0. +0.j, 0. +0.j, 0. +0.j, 0. +0.j, 0. +0.j, 0. +0.j,\n",
    "        0. +0.j, 0. +0.j, 0. +0.j, 0. +0.j, 0. +0.j, 0. +0.j, 0. +0.j,\n",
    "        0.5+0.j]])\n",
    "        #This test is just for the first layer of D_tensor\n",
    "        self.assertTrue(np.array_equal(output[0][0].toarray(), expected))\n",
    "    \n",
    "    def test_build_symmetric_tensor(self):\n",
    "\n",
    "        n = 4\n",
    "        my_pauli_basis = Pauli_Basis(n)\n",
    "        complex_structure_constants  = my_pauli_basis.complex_structure_constants() \n",
    "        antisymmetric_structure_constants = my_pauli_basis.antisymmetric_structure_constants()\n",
    "\n",
    "        my_dissipation_tensor = Dissipation_Tensor(\"symmetric\", complex_structure_constants, antisymmetric_structure_constants)\n",
    "\n",
    "        output = my_dissipation_tensor.tensor\n",
    "\n",
    "        expected = np.array([\n",
    "            [0. +0.j, 0. +0.j, 0. +0.j, 0. +0.j, 0. +0.j, 0. +0.j, 0. +0.j,\n",
    "            0. +0.j, 0. +0.j, 0. +0.j, 0. +0.j, 0. +0.j, 0. +0.j, 0. +0.j,\n",
    "            0. +0.j],[0. +0.j, 0.5+0.j, 0. +0.j, 0. +0.j, 0. +0.j, 0. +0.j, 0. +0.j,\n",
    "            0. +0.j, 0. +0.j, 0. +0.j, 0. +0.j, 0. +0.j, 0. +0.j, 0. +0.j,\n",
    "            0. +0.j],[0. +0.j, 0. +0.j, 0.5+0.j, 0. +0.j, 0. +0.j, 0. +0.j, 0. +0.j,\n",
    "            0. +0.j, 0. +0.j, 0. +0.j, 0. +0.j, 0. +0.j, 0. +0.j, 0. +0.j,\n",
    "            0. +0.j],[0. +0.j, 0. +0.j, 0. +0.j, 0. +0.j, 0. +0.j, 0. +0.j, 0. +0.j,\n",
    "            0. +0.j, 0. +0.j, 0. +0.j, 0. +0.j, 0. +0.j, 0. +0.j, 0. +0.j,\n",
    "            0. +0.j],[0. +0.j, 0. +0.j, 0. +0.j, 0. +0.j, 0. +0.j, 0. +0.j, 0. +0.j,\n",
    "            0. +0.j, 0. +0.j, 0. +0.j, 0. +0.j, 0. +0.j, 0. +0.j, 0. +0.j,\n",
    "            0. +0.j],[0. +0.j, 0. +0.j, 0. +0.j, 0. +0.j, 0. +0.j, 0.5+0.j, 0. +0.j,\n",
    "            0. +0.j, 0. +0.j, 0. +0.j, 0. +0.j, 0. +0.j, 0. +0.j, 0. +0.j,\n",
    "            0. +0.j],[0. +0.j, 0. +0.j, 0. +0.j, 0. +0.j, 0. +0.j, 0. +0.j, 0.5+0.j,\n",
    "            0. +0.j, 0. +0.j, 0. +0.j, 0. +0.j, 0. +0.j, 0. +0.j, 0. +0.j,\n",
    "            0. +0.j],[0. +0.j, 0. +0.j, 0. +0.j, 0. +0.j, 0. +0.j, 0. +0.j, 0. +0.j,\n",
    "            0. +0.j, 0. +0.j, 0. +0.j, 0. +0.j, 0. +0.j, 0. +0.j, 0. +0.j,\n",
    "            0. +0.j],[0. +0.j, 0. +0.j, 0. +0.j, 0. +0.j, 0. +0.j, 0. +0.j, 0. +0.j,\n",
    "            0. +0.j, 0. +0.j, 0. +0.j, 0. +0.j, 0. +0.j, 0. +0.j, 0. +0.j,\n",
    "            0. +0.j],[0. +0.j, 0. +0.j, 0. +0.j, 0. +0.j, 0. +0.j, 0. +0.j, 0. +0.j,\n",
    "            0. +0.j, 0. +0.j, 0.5+0.j, 0. +0.j, 0. +0.j, 0. +0.j, 0. +0.j,\n",
    "            0. +0.j],[0. +0.j, 0. +0.j, 0. +0.j, 0. +0.j, 0. +0.j, 0. +0.j, 0. +0.j,\n",
    "            0. +0.j, 0. +0.j, 0. +0.j, 0.5+0.j, 0. +0.j, 0. +0.j, 0. +0.j,\n",
    "            0. +0.j],[0. +0.j, 0. +0.j, 0. +0.j, 0. +0.j, 0. +0.j, 0. +0.j, 0. +0.j,\n",
    "            0. +0.j, 0. +0.j, 0. +0.j, 0. +0.j, 0. +0.j, 0. +0.j, 0. +0.j,\n",
    "            0. +0.j],[0. +0.j, 0. +0.j, 0. +0.j, 0. +0.j, 0. +0.j, 0. +0.j, 0. +0.j,\n",
    "            0. +0.j, 0. +0.j, 0. +0.j, 0. +0.j, 0. +0.j, 0. +0.j, 0. +0.j,\n",
    "            0. +0.j],[0. +0.j, 0. +0.j, 0. +0.j, 0. +0.j, 0. +0.j, 0. +0.j, 0. +0.j,\n",
    "            0. +0.j, 0. +0.j, 0. +0.j, 0. +0.j, 0. +0.j, 0. +0.j, 0.5+0.j,\n",
    "            0. +0.j],[0. +0.j, 0. +0.j, 0. +0.j, 0. +0.j, 0. +0.j, 0. +0.j, 0. +0.j,\n",
    "            0. +0.j, 0. +0.j, 0. +0.j, 0. +0.j, 0. +0.j, 0. +0.j, 0. +0.j,0.5+0.j]])\n",
    "        \n",
    "        #This test is just for the first layer of D_tensor\n",
    "        self.assertTrue(np.array_equal(output[0][0].toarray(), np.real(expected)))\n",
    "\n",
    "\n",
    "        \n",
    "\n",
    "    \n",
    "\n",
    "\n",
    "\n",
    "\n",
    "        \n",
    "\n",
    "\n",
    "\n",
    "        \n"
   ]
  },
  {
   "cell_type": "code",
   "execution_count": 3,
   "metadata": {},
   "outputs": [
    {
     "name": "stderr",
     "output_type": "stream",
     "text": [
      "C:\\Users\\waqas\\AppData\\Local\\Packages\\PythonSoftwareFoundation.Python.3.12_qbz5n2kfra8p0\\LocalCache\\local-packages\\Python312\\site-packages\\scipy\\sparse\\_lil.py:258: ComplexWarning: Casting complex values to real discards the imaginary part\n",
      "  x = self.dtype.type(x)\n",
      ".........\n",
      "----------------------------------------------------------------------\n",
      "Ran 9 tests in 36.807s\n",
      "\n",
      "OK\n"
     ]
    },
    {
     "data": {
      "text/plain": [
       "<unittest.main.TestProgram at 0x1efe119d0d0>"
      ]
     },
     "execution_count": 3,
     "metadata": {},
     "output_type": "execute_result"
    }
   ],
   "source": [
    "unittest.main(argv=[''], exit = False)"
   ]
  },
  {
   "cell_type": "code",
   "execution_count": 4,
   "metadata": {},
   "outputs": [
    {
     "name": "stderr",
     "output_type": "stream",
     "text": [
      "C:\\Users\\waqas\\AppData\\Local\\Packages\\PythonSoftwareFoundation.Python.3.12_qbz5n2kfra8p0\\LocalCache\\local-packages\\Python312\\site-packages\\scipy\\sparse\\_lil.py:258: ComplexWarning: Casting complex values to real discards the imaginary part\n",
      "  x = self.dtype.type(x)\n"
     ]
    },
    {
     "data": {
      "text/plain": [
       "array([[0. , 0. , 0. , 0. , 0. , 0. , 0. , 0. , 0. , 0. , 0. , 0. , 0. ,\n",
       "        0. , 0. ],\n",
       "       [0. , 0.5, 0. , 0. , 0. , 0. , 0. , 0. , 0. , 0. , 0. , 0. , 0. ,\n",
       "        0. , 0. ],\n",
       "       [0. , 0. , 0.5, 0. , 0. , 0. , 0. , 0. , 0. , 0. , 0. , 0. , 0. ,\n",
       "        0. , 0. ],\n",
       "       [0. , 0. , 0. , 0. , 0. , 0. , 0. , 0. , 0. , 0. , 0. , 0. , 0. ,\n",
       "        0. , 0. ],\n",
       "       [0. , 0. , 0. , 0. , 0. , 0. , 0. , 0. , 0. , 0. , 0. , 0. , 0. ,\n",
       "        0. , 0. ],\n",
       "       [0. , 0. , 0. , 0. , 0. , 0.5, 0. , 0. , 0. , 0. , 0. , 0. , 0. ,\n",
       "        0. , 0. ],\n",
       "       [0. , 0. , 0. , 0. , 0. , 0. , 0.5, 0. , 0. , 0. , 0. , 0. , 0. ,\n",
       "        0. , 0. ],\n",
       "       [0. , 0. , 0. , 0. , 0. , 0. , 0. , 0. , 0. , 0. , 0. , 0. , 0. ,\n",
       "        0. , 0. ],\n",
       "       [0. , 0. , 0. , 0. , 0. , 0. , 0. , 0. , 0. , 0. , 0. , 0. , 0. ,\n",
       "        0. , 0. ],\n",
       "       [0. , 0. , 0. , 0. , 0. , 0. , 0. , 0. , 0. , 0.5, 0. , 0. , 0. ,\n",
       "        0. , 0. ],\n",
       "       [0. , 0. , 0. , 0. , 0. , 0. , 0. , 0. , 0. , 0. , 0.5, 0. , 0. ,\n",
       "        0. , 0. ],\n",
       "       [0. , 0. , 0. , 0. , 0. , 0. , 0. , 0. , 0. , 0. , 0. , 0. , 0. ,\n",
       "        0. , 0. ],\n",
       "       [0. , 0. , 0. , 0. , 0. , 0. , 0. , 0. , 0. , 0. , 0. , 0. , 0. ,\n",
       "        0. , 0. ],\n",
       "       [0. , 0. , 0. , 0. , 0. , 0. , 0. , 0. , 0. , 0. , 0. , 0. , 0. ,\n",
       "        0.5, 0. ],\n",
       "       [0. , 0. , 0. , 0. , 0. , 0. , 0. , 0. , 0. , 0. , 0. , 0. , 0. ,\n",
       "        0. , 0.5]])"
      ]
     },
     "execution_count": 4,
     "metadata": {},
     "output_type": "execute_result"
    }
   ],
   "source": [
    "n = 4\n",
    "my_pauli_basis = Pauli_Basis(n)\n",
    "complex_structure_constants  = my_pauli_basis.complex_structure_constants()\n",
    "antisymmetric_structure_constants = my_pauli_basis.antisymmetric_structure_constants()\n",
    "my_dissipation_tensor_sym = Dissipation_Tensor(\"symmetric\", complex_structure_constants, antisymmetric_structure_constants)\n",
    "\n",
    "my_dissipation_tensor_sym.tensor[0][0].toarray()"
   ]
  },
  {
   "cell_type": "code",
   "execution_count": null,
   "metadata": {},
   "outputs": [
    {
     "data": {
      "text/plain": [
       "<src.dissipation_tensor.Dissipation_Tensor at 0x1efe14d4d40>"
      ]
     },
     "execution_count": 5,
     "metadata": {},
     "output_type": "execute_result"
    }
   ],
   "source": [
    "Dissipation_Tensor(\"general\", complex_structure_constants, antisymmetric_structure_constants) #takes 30 seconds again"
   ]
  },
  {
   "cell_type": "code",
   "execution_count": null,
   "metadata": {},
   "outputs": [
    {
     "data": {
      "text/plain": [
       "<src.dissipation_tensor.Dissipation_Tensor at 0x1efe10af860>"
      ]
     },
     "execution_count": 6,
     "metadata": {},
     "output_type": "execute_result"
    }
   ],
   "source": [
    "Dissipation_Tensor(\"symmetric\", complex_structure_constants, antisymmetric_structure_constants) #takes 2.6seconds"
   ]
  }
 ],
 "metadata": {
  "kernelspec": {
   "display_name": "Python 3",
   "language": "python",
   "name": "python3"
  },
  "language_info": {
   "codemirror_mode": {
    "name": "ipython",
    "version": 3
   },
   "file_extension": ".py",
   "mimetype": "text/x-python",
   "name": "python",
   "nbconvert_exporter": "python",
   "pygments_lexer": "ipython3",
   "version": "3.12.8"
  }
 },
 "nbformat": 4,
 "nbformat_minor": 2
}
