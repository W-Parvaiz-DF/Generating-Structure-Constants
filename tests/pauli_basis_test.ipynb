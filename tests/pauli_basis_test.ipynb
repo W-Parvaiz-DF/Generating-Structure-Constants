{
 "cells": [
  {
   "cell_type": "code",
   "execution_count": 138,
   "metadata": {},
   "outputs": [],
   "source": [
    "import unittest\n",
    "import numpy as np\n",
    "import importlib\n",
    "import sys\n",
    "sys.path.append('../')\n",
    "from src import pauli_basis_class\n",
    "importlib.reload(pauli_basis_class)\n",
    "from src.pauli_basis_class import Pauli_Basis\n",
    "\n"
   ]
  },
  {
   "cell_type": "code",
   "execution_count": 139,
   "metadata": {},
   "outputs": [],
   "source": [
    "class BasisTestCase(unittest.TestCase):\n",
    "    def test_get_correct_dimensions(self):\n",
    "        n = 2\n",
    "        my_pauli_basis = Pauli_Basis(n)\n",
    "        result = my_pauli_basis.dimension\n",
    "        self.assertEqual(result, n)\n",
    "\n",
    "    def test_only_powers_of_2(self):\n",
    "        n = 3\n",
    "        with self.assertRaises(Exception) as context:\n",
    "            Pauli_Basis(n)  \n",
    "\n",
    "        self.assertEqual(str(context.exception), \"Must be a power of 2\")\n",
    "\n",
    "    def test_tesnor_product_list_of_arrays(self):\n",
    "        n = 2 \n",
    "        my_pauli_basis = Pauli_Basis(n)\n",
    "\n",
    "        list_1 = [np.array([[1,1,3],[3,2,1],[4,5,6]]), np.array([[4,5,7],[8,4,6],[1j,6,-6]])]\n",
    "        list_2 = [np.array([[4,5,8],[8,8,9],[9,3,5]])] +  list_1\n",
    "        \n",
    "        result = my_pauli_basis.tensor_product_list(list_1,list_2) \n",
    "\n",
    "        expected_list_size = len(list_1)*len(list_2)\n",
    "        expected_matrix_size = len(np.kron(list_1[0], list_2[0])) \n",
    "        self.assertEqual(expected_list_size, len(result))\n",
    "        self.assertEqual(expected_matrix_size, len(result[0])) \n",
    "        self.assertTrue(np.array_equal(np.kron(list_1[-1],list_2[-1]), result[-1]))      \n",
    "\n",
    "    def test_recursive_tensor_prod_list(self):\n",
    "\n",
    "        n = 4\n",
    "        my_pauli_basis = Pauli_Basis(n)\n",
    "        list_1 = [np.array([[1,1,3],[3,2,1],[4,5,6]]), np.array([[4,5,7],[8,4,6],[1j,6,-6]])]\n",
    "        list_2 = [np.array([[4,5,8],[8,8,9],[9,3,5]]), np.array([[1,2,3],[4,5,6],[7,8,9]])]\n",
    "        number_of_tensor_products = 3\n",
    "\n",
    "        result = my_pauli_basis.recursive_tensor_product_list(list_1, list_2, number_of_tensor_products)\n",
    "\n",
    "        expected_list_size = len(list_1)*(len(list_2)**(number_of_tensor_products))\n",
    "        expected_matrix_size = len(list_1[0])*len(list_2[0])**(number_of_tensor_products)\n",
    "\n",
    "        self.assertEqual(expected_list_size, len(result))\n",
    "        self.assertEqual(expected_matrix_size, len(result[0]))\n",
    "\n",
    "    def test_pauli_basis_su_2(self):\n",
    "        \n",
    "        n = 2\n",
    "        my_pauli_basis = Pauli_Basis(n)\n",
    "\n",
    "        result = my_pauli_basis.pauli_basis_matrices()\n",
    "        \n",
    "        expected_list = [0.5*np.array([[0,1],[1,0]]), 0.5*np.array([[0,-1j],[1j, 0]]), 0.5*np.array([[0,1],[0,-1]])]\n",
    "        \n",
    "        self.assertTrue(np.array_equal(result[i], expected_list[i]) for i in range(len(result)))    \n",
    "\n",
    "    \n",
    "    def test_pauli_basis_works_correctly(self):\n",
    "\n",
    "        n = 16\n",
    "        my_pauli_basis = Pauli_Basis(n)\n",
    "\n",
    "        expected_number_of_matrices = n**2 - 1\n",
    "        \n",
    "        output_basis_list = my_pauli_basis.pauli_basis_matrices()\n",
    "        \n",
    "        actual_number_of_matrices = len(output_basis_list)\n",
    "    \n",
    "        self.assertEqual(expected_number_of_matrices, actual_number_of_matrices)\n",
    "\n",
    "\n",
    "\n",
    "\n",
    "\n",
    "\n",
    "\n",
    "\n",
    "\n"
   ]
  },
  {
   "cell_type": "code",
   "execution_count": 140,
   "metadata": {},
   "outputs": [
    {
     "name": "stderr",
     "output_type": "stream",
     "text": [
      "......\n",
      "----------------------------------------------------------------------\n",
      "Ran 6 tests in 0.198s\n",
      "\n",
      "OK\n"
     ]
    },
    {
     "data": {
      "text/plain": [
       "<unittest.main.TestProgram at 0x2014cdd5910>"
      ]
     },
     "execution_count": 140,
     "metadata": {},
     "output_type": "execute_result"
    }
   ],
   "source": [
    "unittest.main(argv=[''], exit=False)"
   ]
  },
  {
   "cell_type": "code",
   "execution_count": 141,
   "metadata": {},
   "outputs": [
    {
     "data": {
      "text/plain": [
       "256"
      ]
     },
     "execution_count": 141,
     "metadata": {},
     "output_type": "execute_result"
    }
   ],
   "source": [
    "16*16"
   ]
  }
 ],
 "metadata": {
  "kernelspec": {
   "display_name": "Python 3",
   "language": "python",
   "name": "python3"
  },
  "language_info": {
   "codemirror_mode": {
    "name": "ipython",
    "version": 3
   },
   "file_extension": ".py",
   "mimetype": "text/x-python",
   "name": "python",
   "nbconvert_exporter": "python",
   "pygments_lexer": "ipython3",
   "version": "3.12.8"
  }
 },
 "nbformat": 4,
 "nbformat_minor": 2
}
