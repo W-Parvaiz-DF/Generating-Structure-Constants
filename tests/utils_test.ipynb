{
 "cells": [
  {
   "cell_type": "code",
   "execution_count": 8,
   "metadata": {},
   "outputs": [
    {
     "data": {
      "text/plain": [
       "<module 'utils' from 'c:\\\\Users\\\\waqas\\\\OneDrive\\\\Documents\\\\CVUT\\\\Survey\\\\Code\\\\Lie Algebra\\\\Generating_Structure_Constants\\\\tests\\\\../src\\\\utils.py'>"
      ]
     },
     "execution_count": 8,
     "metadata": {},
     "output_type": "execute_result"
    }
   ],
   "source": [
    "import numpy as np\n",
    "import unittest\n",
    "import sys\n",
    "sys.path.append('../src')\n",
    "import utils\n",
    "from utils import commutator, anticommutator, find_matrix_mask, symmetric_index_mapping\n",
    "import importlib\n",
    "importlib.reload(utils)\n",
    "\n"
   ]
  },
  {
   "cell_type": "code",
   "execution_count": 9,
   "metadata": {},
   "outputs": [],
   "source": [
    "class Utils_Test(unittest.TestCase):\n",
    "\n",
    "    def test_commutator(self):\n",
    "    \n",
    "        matrix_1 = np.array([[0,1],[1,0]])\n",
    "        matrix_2 = np.array([[0, -1j],[1j, 0]])\n",
    "\n",
    "        actual_matrix = np.array([[2j, 0], [0, -2j]])\n",
    "\n",
    "        expected_matrix = commutator(matrix_1, matrix_2)\n",
    "\n",
    "        self.assertTrue(np.array_equal(actual_matrix,expected_matrix))\n",
    "\n",
    "    def test_anticommutator(self):\n",
    "        matrix_1 = np.array([[5,4],[8,-6]])\n",
    "        matrix_2 = np.array([[3j, 9],[2, -1j]])\n",
    "\n",
    "        actual_matrix = np.array([[80 + 30j, -9 + 8j], [-2 + 16j, 80 + 12j]])\n",
    "        \n",
    "        expected_matrix = anticommutator(matrix_1, matrix_2)\n",
    "        self.assertTrue(np.array_equal(actual_matrix,expected_matrix))\n",
    "\n",
    "\n",
    "    def test_find_matrix_mask(self):\n",
    "        matrix_1 = np.array([[5,0],[8,-6]])\n",
    "\n",
    "        actual = np.array([[True, False], [True, True]])\n",
    "        expected = find_matrix_mask(matrix_1)\n",
    "\n",
    "        self.assertTrue(np.array_equal(actual, expected))\n",
    "\n",
    "    \n",
    "    def test_symmetric_index_mapping(self):\n",
    "        n = 2\n",
    "        result = symmetric_index_mapping(n)\n",
    "        expected = {(0, 0): 0, (0, 1): 1, (1, 0): 1, (1, 1): 2}\n",
    "        self.assertDictEqual(result, expected)    \n",
    "\n",
    "\n"
   ]
  },
  {
   "cell_type": "code",
   "execution_count": 10,
   "metadata": {},
   "outputs": [
    {
     "name": "stderr",
     "output_type": "stream",
     "text": [
      "....\n",
      "----------------------------------------------------------------------\n",
      "Ran 4 tests in 0.004s\n",
      "\n",
      "OK\n"
     ]
    },
    {
     "data": {
      "text/plain": [
       "<unittest.main.TestProgram at 0x2a53e0894f0>"
      ]
     },
     "execution_count": 10,
     "metadata": {},
     "output_type": "execute_result"
    }
   ],
   "source": [
    "unittest.main(argv=[''], exit = False)"
   ]
  }
 ],
 "metadata": {
  "kernelspec": {
   "display_name": "Python 3",
   "language": "python",
   "name": "python3"
  },
  "language_info": {
   "codemirror_mode": {
    "name": "ipython",
    "version": 3
   },
   "file_extension": ".py",
   "mimetype": "text/x-python",
   "name": "python",
   "nbconvert_exporter": "python",
   "pygments_lexer": "ipython3",
   "version": "3.12.8"
  }
 },
 "nbformat": 4,
 "nbformat_minor": 2
}
