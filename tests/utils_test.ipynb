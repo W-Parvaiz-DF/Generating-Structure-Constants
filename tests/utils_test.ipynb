{
 "cells": [
  {
   "cell_type": "code",
   "execution_count": 35,
   "metadata": {},
   "outputs": [
    {
     "data": {
      "text/plain": [
       "<module 'src.utils' from 'c:\\\\Users\\\\waqas\\\\OneDrive\\\\Documents\\\\CVUT\\\\Survey\\\\Code\\\\Lie Algebra\\\\Generating_Structure_Constants\\\\tests\\\\..\\\\src\\\\utils.py'>"
      ]
     },
     "execution_count": 35,
     "metadata": {},
     "output_type": "execute_result"
    }
   ],
   "source": [
    "import numpy as np\n",
    "import unittest\n",
    "import sys\n",
    "sys.path.append('../src')\n",
    "from utils import commutator, anticommutator\n",
    "import importlib\n",
    "importlib.reload(utils)\n"
   ]
  },
  {
   "cell_type": "code",
   "execution_count": 29,
   "metadata": {},
   "outputs": [],
   "source": [
    "class Utils_Test(unittest.TestCase):\n",
    "\n",
    "    def test_commutator(self):\n",
    "    \n",
    "        matrix_1 = np.array([[0,1],[1,0]])\n",
    "        matrix_2 = np.array([[0, -1j],[1j, 0]])\n",
    "\n",
    "        actual_matrix = np.array([[2j, 0], [0, -2j]])\n",
    "\n",
    "        expected_matrix = commutator(matrix_1, matrix_2)\n",
    "\n",
    "        self.assertTrue(np.array_equal(actual_matrix,expected_matrix))\n",
    "\n",
    "    def test_anticommutator(self):\n",
    "        matrix_1 = np.array([[5,4],[8,-6]])\n",
    "        matrix_2 = np.array([[3j, 9],[2, -1j]])\n",
    "\n",
    "        actual_matrix = np.array([[80 + 30j, -9 + 8j], [-2 + 16j, 80 + 12j]])\n",
    "        \n",
    "        expected_matrix = anticommutator(matrix_1, matrix_2)\n",
    "        self.assertTrue(np.array_equal(actual_matrix,expected_matrix))"
   ]
  },
  {
   "cell_type": "code",
   "execution_count": 30,
   "metadata": {},
   "outputs": [
    {
     "name": "stderr",
     "output_type": "stream",
     "text": [
      "..\n",
      "----------------------------------------------------------------------\n",
      "Ran 2 tests in 0.004s\n",
      "\n",
      "OK\n"
     ]
    },
    {
     "data": {
      "text/plain": [
       "<unittest.main.TestProgram at 0x1c6741d3440>"
      ]
     },
     "execution_count": 30,
     "metadata": {},
     "output_type": "execute_result"
    }
   ],
   "source": [
    "unittest.main(argv=[''], exit = False)"
   ]
  }
 ],
 "metadata": {
  "kernelspec": {
   "display_name": "Python 3",
   "language": "python",
   "name": "python3"
  },
  "language_info": {
   "codemirror_mode": {
    "name": "ipython",
    "version": 3
   },
   "file_extension": ".py",
   "mimetype": "text/x-python",
   "name": "python",
   "nbconvert_exporter": "python",
   "pygments_lexer": "ipython3",
   "version": "3.12.8"
  }
 },
 "nbformat": 4,
 "nbformat_minor": 2
}
