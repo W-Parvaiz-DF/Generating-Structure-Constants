{
 "cells": [
  {
   "cell_type": "markdown",
   "metadata": {},
   "source": [
    "# Tutorial: A Two Qubit System\n",
    "\n",
    "In our [paper](https://arxiv.org/abs/2501.05270), we provide and example of a 2-level markovian open quantum system \n",
    "\n",
    "$$\n",
    "\\begin{equation}\n",
    "\\begin{aligned}\n",
    "\\dot \\rho= & -i[H, \\rho]+\\sum_{k=1}^2 \\frac{g_{k}^{z}}{2}\\left(\\sigma_z^k \\rho \\sigma_z^k-\\rho\\right) \\\\\n",
    "& +\\sum_{k=1}^2 2 g_k^{-}\\left(\\sigma_{-}^k \\rho \\sigma_{+}^k-\\frac{1}{2} \\sigma_{+}^k \\sigma_{-}^k \\rho-\\frac{1}{2} \\rho \\sigma_{+}^k \\sigma_{-}^k\\right) \\\\\n",
    "& +2 g_k^{+}\\left(\\sigma_{+}^k \\rho \\sigma_{-}^k-\\frac{1}{2} \\sigma_{-}^k \\sigma_{+}^k \\rho-\\frac{1}{2} \\rho \\sigma_{-}^k \\sigma_{+}^k\\right),\n",
    "\\end{aligned}\n",
    "\\end{equation}\n",
    "$$\n",
    "\n",
    "with system Hamiltonian\n",
    "\n",
    "$$\n",
    "\\begin{equation}\n",
    "    H = \\frac{\\omega_1}{2}\\sigma^{1}_{z} + \\frac{\\omega_2}{2}\\sigma^{2}_{z} + \\delta(\\sigma^1_{+}\\sigma^2_{-} + \\sigma^1_{-}\\sigma^{2}_{+}).\n",
    "\\end{equation}\n",
    "$$\n",
    "\n",
    "Note $\\sigma_{\\pm}^{k} = \\frac{1}{\\sqrt{2}}(\\sigma_{x}^{k} \\mp i\\sigma_{y}^{k})$.\n",
    "\n",
    "This example was provided by [Zhang and Sarovar](https://journals.aps.org/pra/abstract/10.1103/PhysRevA.91.052121), and describes the energy transfer, dephasing and relaxation of two detuned qubits. \n",
    "\n",
    "\n",
    "As mentioned in our paper, the dynamical equation above is in the Lindbladian form and not in the GKS form. Hence, to determine whether or not the Kossakowski matrix, $\\gamma$ is symmetric or has a general form one must transform the above into the GKS equation. Determining the symmetric properties of $\\gamma$, is required in order to construct the correct recoverability matrix ($T_{2}$ or $T_{3}$ in our paper) and hence certify if all the environment decoherence rates are able to be reconstructed. \n",
    "\n",
    "To do transform into the GKS, we firstly choose the orthonormal basis of the \"ordinary\" Pauli basis \n",
    "\n",
    "$$\n",
    "\\{F_j\\} = \\{\\sigma_{j}^{\\alpha}, \\sigma_{j} \\otimes\\sigma_{k} \\quad | \\quad j,k \\in \\{x,y,z\\}, \\alpha  \\in \\{1,2\\} \\} \n",
    "$$\n",
    "\n",
    "which satisfies the properties of tracelessness and orthonormality. Here $\\sigma_{j}^{\\alpha}$ is shorthand for the tensor products of the Pauli matrices with the identity, where the superscript determines the positon of the Pauli matrix in the operation e.g $\\sigma^{2}_{x} = I \\otimes \\sigma_{x}$.  \n",
    "\n",
    "This transformation into the GKS form is done by a unitary operation, $U$, whose form depends on the choice of ordering of the basis elements. For example, if one choses to order the lindblad operators and the decoherence rates as\n",
    "\n",
    "$$\n",
    "L = \\begin{pmatrix} \\sigma_{z}^{1} \\\\ \\sigma_{z}^{2} \\\\ \\sigma_{-}^{1} \\\\ \\sigma_{-}^{2} \\\\ \\sigma_{+}^{1} \\\\ \\sigma_{+}^{2} \\end{pmatrix}, \\tilde{\\gamma} = \\begin{pmatrix}g^{z}_{1}/2 \\\\ g_{2}^{z}/2 \\\\ 2g^{-}_{1} \\\\ 2g^{-}_2 \\\\ 2g^{+}_{1} \\\\ 2g^{+}_{2}\\end{pmatrix}\n",
    "$$\n",
    "\n",
    "and since we know that  $$L_j = \\sum_{k}U_{kj}F_{k},$$ we can see that we will only need to consider the first $6$ elements of the set $\\{ F_{j}\\}$. Hence, the $6 \\times 6$ relevant block of the unitary is \n",
    "\n",
    "$$\n",
    "U = \\begin{pmatrix}\n",
    "    0 & 0 & 1 & 0 & 0 & 0 \\\\\n",
    "    0 & 0 & 0 & 0 & 0 & 1 \\\\\n",
    "    \\frac{1}{\\sqrt{2}} & \\frac{i}{\\sqrt{2}} & 0 & 0 & 0 & 0 \\\\\n",
    "    0 & 0 & 0 & \\frac{1}{\\sqrt{2}} & \\frac{i}{\\sqrt{2}} & 0 \\\\\n",
    "    \\frac{1}{\\sqrt{2}} & -\\frac{i}{\\sqrt{2}} & 0 & 0 & 0 & 0 \\\\\n",
    "    0 & 0 & 0 & \\frac{1}{\\sqrt{2}} & -\\frac{i}{\\sqrt{2}} & 0\n",
    "\\end{pmatrix}.\n",
    "$$\n",
    "Note here that the complete unitary has dimensions $15 \\times 15$, however all other elements not shown are $0$. \n",
    "\n",
    "To find the Kossakowski matrix, $\\gamma$, we compute $$ \\gamma = U\\text{diag}({\\tilde{\\gamma}})U^{\\dagger},$$ in which we find that \n",
    "\n",
    "$$\n",
    "\\begin{equation}\n",
    "\\gamma = \\begin{pmatrix}\n",
    "2 g^{-}_1 & 0 & 0 & 0 & 0 & 0 \\\\\n",
    "0 & 2 g^{+}_2 & 0 & 0 & 0 & 0 \\\\\n",
    "0 & 0 & \\frac{1}{8}(g^{z}_1 + g^{z}_2) & 0 & \\frac{1}{8}(g^{z}_1 - g^{z}_2) & 0 \\\\\n",
    "0 & 0 & 0 & \\frac{1}{2}(g^{+}_1 + g^{-}_2) & 0 & -\\frac{1}{2}(g^{+}_1 - g^{-}_2) \\\\\n",
    "0 & 0 & \\frac{1}{8}(g^{z}_1 - g^{z}_2) & 0 & \\frac{1}{8}(g^{z}_1 + g^{z}_2) & 0 \\\\\n",
    "0 & 0 & 0 & -\\frac{1}{2}(g^{+}_1 - g^{-}_2) & 0 & \\frac{1}{2}(g^{+}_1 + g^{-}_2)\n",
    "\\end{pmatrix}\n",
    "\\end{equation}\n",
    "$$\n",
    "\n",
    "As we can see this is a symetric matrix and hence will proceed by checking if $T_{3}$ is invertible. \n",
    "\n",
    "\n",
    "\n",
    "\n"
   ]
  },
  {
   "cell_type": "code",
   "execution_count": 1,
   "metadata": {},
   "outputs": [],
   "source": [
    "import sys\n",
    "sys.path.append('../')\n",
    "import importlib\n",
    "from src import dissipation_tensor, T_2_matrix, pauli_basis_class\n",
    "from src.pauli_basis_class import Pauli_Basis\n",
    "from src.dissipation_tensor import Dissipation_Tensor\n",
    "from src.T_2_matrix import T_2_Matrix\n",
    "importlib.reload(T_2_matrix)\n",
    "importlib.reload(dissipation_tensor)\n",
    "importlib.reload(pauli_basis_class);"
   ]
  },
  {
   "cell_type": "markdown",
   "metadata": {},
   "source": [
    "## Generating the Basis and Structure constants\n",
    "\n",
    "To begin, we construct our orthonormal basis, which is created upon instantiation of the class ```Pauli_Basis```, the only argument required here is the dimension of the Hilbert space of the reduced system. The code here only allows for the construction of the (tensored) Pauli basis generator, for dimensions which are of the form $N = 2^{k}$ e.g. $k$-qubit systems. This is because we show in appendix D of [(citationneed)], that the commutation and anticommutation of elements in the corresponding Lie group are not linear combination of other elements and hence the antisymmetric, $f_{jkl}$ and symmetric, $g_{jkl}$ structure constants (respectively) are easier to compute. Furthermore, we showed in Theorem [FIND] that in these scenarios, all the parameters of the Hamiltonian, $\\theta_i$, can be recovered. \n",
    "\n",
    "The basis is constructed by taking $\\log_{2}(N) - 1$ tensor product, of the set $ \\{I, \\sigma_x, \\sigma_y, \\sigma_z \\} $ with itself and removing the element which only contains the identity. The basis contains $n = N^{2} -1$ elements. \n",
    "\n",
    "From this we then create and store, the  complex and antisymmetric structure constants required to be passed on as arguments to create the dissipation tensor. The complex structuctor constants are simply built as described in the paper\n",
    "\n",
    "$$ z_{jkl} = f_{jkl} +ig_{jkl} $$\n",
    "\n",
    "$f_{jkl}$ and $g_{jkl}$ are constructed by taking the commuatation and anticommutation of each possible pair in the basis, searching for which element in the basis they project onto and then finding the magnitude of the projection. The result is stored into a 3-dimensional list where the indices are determined by the ordering of the elements in the basis. \n"
   ]
  },
  {
   "cell_type": "code",
   "execution_count": 2,
   "metadata": {},
   "outputs": [
    {
     "name": "stderr",
     "output_type": "stream",
     "text": [
      "C:\\Users\\waqas\\AppData\\Local\\Packages\\PythonSoftwareFoundation.Python.3.12_qbz5n2kfra8p0\\LocalCache\\local-packages\\Python312\\site-packages\\scipy\\sparse\\_lil.py:258: ComplexWarning: Casting complex values to real discards the imaginary part\n",
      "  x = self.dtype.type(x)\n"
     ]
    }
   ],
   "source": [
    "# Assign number of qubit depending on system\n",
    "number_of_qubits = 2\n",
    "\n",
    "# The corresponding number of levels of the system\n",
    "dimension = 2**number_of_qubits\n",
    "\n",
    "\n",
    "my_pauli_basis = Pauli_Basis(dimension)\n",
    "complex_structure_constants = my_pauli_basis.complex_structure_constants()\n",
    "antisymmetric_structure_constants = my_pauli_basis.antisymmetric_structure_constants();"
   ]
  },
  {
   "cell_type": "markdown",
   "metadata": {},
   "source": [
    "## Building the Dissipation Tensor \n",
    "\n",
    "The dissipation tensor has two forms depending on the properties of the Kossakowski matrix, $\\gamma$. In the case of the general the form is, \n",
    "\n",
    "$$D^{(j,k)}_{lm} = \\frac{1}{4}\\sum_{p=1}^{n} z_{lpk}f_{jmp} + \\bar{z}_{mpk}f_{jlp}$$\n",
    "\n",
    "however, for a symmetric $\\gamma$ this can be reduced as\n",
    "\n",
    "$$ \\tilde D^{(j,k)}_{lm} = \\frac{1}{2}\\sum_{p=1}^{n} f_{jmp}f_{klp}.$$\n",
    "\n",
    "The dissipation tensor is constructed by calling the class ```Dissipation_Tensor(kossakowski, complex_structure_constants, anti_symmetric_structure_constants)``` with 3 arguments. The first arguement requires the string ```\"general\"``` or ```\"symmetric\"``` so that the correct tensor is created. The next two arguments are simply just the structure constants required for the construction, which we stored in the cell above. \n"
   ]
  },
  {
   "cell_type": "code",
   "execution_count": 3,
   "metadata": {},
   "outputs": [],
   "source": [
    "my_dissipation_tensor = Dissipation_Tensor(\"symmetric\", complex_structure_constants, antisymmetric_structure_constants)"
   ]
  },
  {
   "cell_type": "markdown",
   "metadata": {},
   "source": [
    "## Determining Recoverability of Decoherence Parameters\n"
   ]
  },
  {
   "cell_type": "markdown",
   "metadata": {},
   "source": [
    "Finally, the $T_2$ matrix is produce simply by passing the dissipation tensor produced above into the constructor of the class ```T_2_Matrix```. From this, the property of kossakowski matrix being is carried forward into this class and from this, either ```build_general_matrix()``` method or the ```build_symetric_matrix()``` method is invoked producing a matrix of shape $(n^{2}, n^{2})$ or $(n^{2}, n(n+1)/2)$. Note that for the symmetric case, in the paper we refer to this matrix as $T_3$ however, here we simple keep the class the same and refer to it as $T_2$. In this case, we get $T_3$ which is a matrix with shape $(225, 120)$. One can check the rank by calling the property ```.rank``` or check if the matrix is full rank directly by calling ```isfullrank()``` which returns a boolean value. Here, we get the output ```True``` which tells us that the environmental parameters of the system are recoverable.   "
   ]
  },
  {
   "cell_type": "code",
   "execution_count": 4,
   "metadata": {},
   "outputs": [
    {
     "name": "stdout",
     "output_type": "stream",
     "text": [
      "True\n",
      "120\n"
     ]
    }
   ],
   "source": [
    "# Final matrix for determining recoverability of decoherence parameters\n",
    "my_t_2_matrix = T_2_Matrix(my_dissipation_tensor)\n",
    "print(my_t_2_matrix.isfullrank())\n",
    "print(my_t_2_matrix.rank)"
   ]
  }
 ],
 "metadata": {
  "kernelspec": {
   "display_name": "Python 3",
   "language": "python",
   "name": "python3"
  },
  "language_info": {
   "codemirror_mode": {
    "name": "ipython",
    "version": 3
   },
   "file_extension": ".py",
   "mimetype": "text/x-python",
   "name": "python",
   "nbconvert_exporter": "python",
   "pygments_lexer": "ipython3",
   "version": "3.12.8"
  }
 },
 "nbformat": 4,
 "nbformat_minor": 2
}
